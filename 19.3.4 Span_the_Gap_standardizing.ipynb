{
 "cells": [
  {
   "cell_type": "code",
   "execution_count": 1,
   "id": "18d55532",
   "metadata": {},
   "outputs": [
    {
     "data": {
      "text/html": [
       "<div>\n",
       "<style scoped>\n",
       "    .dataframe tbody tr th:only-of-type {\n",
       "        vertical-align: middle;\n",
       "    }\n",
       "\n",
       "    .dataframe tbody tr th {\n",
       "        vertical-align: top;\n",
       "    }\n",
       "\n",
       "    .dataframe thead th {\n",
       "        text-align: right;\n",
       "    }\n",
       "</style>\n",
       "<table border=\"1\" class=\"dataframe\">\n",
       "  <thead>\n",
       "    <tr style=\"text-align: right;\">\n",
       "      <th></th>\n",
       "      <th>Satisfaction_Level</th>\n",
       "      <th>Num_Projects</th>\n",
       "      <th>Time_Spent</th>\n",
       "      <th>Num_Promotions</th>\n",
       "    </tr>\n",
       "  </thead>\n",
       "  <tbody>\n",
       "    <tr>\n",
       "      <th>0</th>\n",
       "      <td>0.30</td>\n",
       "      <td>1</td>\n",
       "      <td>253</td>\n",
       "      <td>2</td>\n",
       "    </tr>\n",
       "    <tr>\n",
       "      <th>1</th>\n",
       "      <td>0.25</td>\n",
       "      <td>1</td>\n",
       "      <td>200</td>\n",
       "      <td>0</td>\n",
       "    </tr>\n",
       "    <tr>\n",
       "      <th>2</th>\n",
       "      <td>0.90</td>\n",
       "      <td>4</td>\n",
       "      <td>2880</td>\n",
       "      <td>5</td>\n",
       "    </tr>\n",
       "    <tr>\n",
       "      <th>3</th>\n",
       "      <td>0.65</td>\n",
       "      <td>3</td>\n",
       "      <td>1450</td>\n",
       "      <td>3</td>\n",
       "    </tr>\n",
       "    <tr>\n",
       "      <th>4</th>\n",
       "      <td>0.50</td>\n",
       "      <td>2</td>\n",
       "      <td>785</td>\n",
       "      <td>2</td>\n",
       "    </tr>\n",
       "  </tbody>\n",
       "</table>\n",
       "</div>"
      ],
      "text/plain": [
       "   Satisfaction_Level  Num_Projects  Time_Spent  Num_Promotions\n",
       "0                0.30             1         253               2\n",
       "1                0.25             1         200               0\n",
       "2                0.90             4        2880               5\n",
       "3                0.65             3        1450               3\n",
       "4                0.50             2         785               2"
      ]
     },
     "execution_count": 1,
     "metadata": {},
     "output_type": "execute_result"
    }
   ],
   "source": [
    "# This dataset has four variables, each using different numerical scales and units. If we want \n",
    "# to use this dataset for a neural network model, we need to standardize these variables, \n",
    "# otherwise it is likely that \"Satisfaction_Level\" (which ranges between 0 and 1) would be \n",
    "# undervalued compared to \"Time_Spent\" (which ranges from approximately 50 to 4,800 hours). \n",
    "# Let's start by adding the following code to the notebook:\n",
    "\n",
    "# Import our dependencies\n",
    "import pandas as pd\n",
    "from sklearn.preprocessing import StandardScaler\n",
    "\n",
    "# Read in our dataset\n",
    "hr_df = pd.read_csv(\"hr_dataset.csv\")\n",
    "hr_df.head()"
   ]
  },
  {
   "cell_type": "code",
   "execution_count": 2,
   "id": "8ee105b5",
   "metadata": {},
   "outputs": [],
   "source": [
    "# If this dataset contained categorical data, we would need to slice out the categorical \n",
    "# data prior to scaling.\n",
    "\n",
    "# To apply our standardization, we need to create a StandardScaler instance by adding \n",
    "# and running the following code:\n",
    "\n",
    "# Create the StandardScaler instance\n",
    "scaler = StandardScaler()"
   ]
  },
  {
   "cell_type": "code",
   "execution_count": 3,
   "id": "5491f7e3",
   "metadata": {},
   "outputs": [
    {
     "data": {
      "text/plain": [
       "StandardScaler()"
      ]
     },
     "execution_count": 3,
     "metadata": {},
     "output_type": "execute_result"
    }
   ],
   "source": [
    "# Once we have our StandardScaler instance, we need to fit the input data by adding and running \n",
    "# the next line of code:\n",
    "\n",
    "# Fit the StandardScaler\n",
    "scaler.fit(hr_df)"
   ]
  },
  {
   "cell_type": "code",
   "execution_count": 4,
   "id": "8a484934",
   "metadata": {},
   "outputs": [],
   "source": [
    "# After our StandardScaler instance is fitted with the numerical data, we can transform and \n",
    "# standardize the dataset using the following code:\n",
    "\n",
    "# Scale the data\n",
    "scaled_data = scaler.transform(hr_df)"
   ]
  },
  {
   "cell_type": "code",
   "execution_count": 5,
   "id": "0010c26c",
   "metadata": {},
   "outputs": [
    {
     "data": {
      "text/html": [
       "<div>\n",
       "<style scoped>\n",
       "    .dataframe tbody tr th:only-of-type {\n",
       "        vertical-align: middle;\n",
       "    }\n",
       "\n",
       "    .dataframe tbody tr th {\n",
       "        vertical-align: top;\n",
       "    }\n",
       "\n",
       "    .dataframe thead th {\n",
       "        text-align: right;\n",
       "    }\n",
       "</style>\n",
       "<table border=\"1\" class=\"dataframe\">\n",
       "  <thead>\n",
       "    <tr style=\"text-align: right;\">\n",
       "      <th></th>\n",
       "      <th>Satisfaction_Level</th>\n",
       "      <th>Num_Projects</th>\n",
       "      <th>Time_Spent</th>\n",
       "      <th>Num_Promotions</th>\n",
       "    </tr>\n",
       "  </thead>\n",
       "  <tbody>\n",
       "    <tr>\n",
       "      <th>0</th>\n",
       "      <td>-1.303615</td>\n",
       "      <td>-1.162476</td>\n",
       "      <td>-1.049481</td>\n",
       "      <td>-0.558656</td>\n",
       "    </tr>\n",
       "    <tr>\n",
       "      <th>1</th>\n",
       "      <td>-1.512945</td>\n",
       "      <td>-1.162476</td>\n",
       "      <td>-1.094603</td>\n",
       "      <td>-1.804887</td>\n",
       "    </tr>\n",
       "    <tr>\n",
       "      <th>2</th>\n",
       "      <td>1.208335</td>\n",
       "      <td>0.860233</td>\n",
       "      <td>1.187080</td>\n",
       "      <td>1.310692</td>\n",
       "    </tr>\n",
       "    <tr>\n",
       "      <th>3</th>\n",
       "      <td>0.161689</td>\n",
       "      <td>0.185996</td>\n",
       "      <td>-0.030385</td>\n",
       "      <td>0.064460</td>\n",
       "    </tr>\n",
       "    <tr>\n",
       "      <th>4</th>\n",
       "      <td>-0.466299</td>\n",
       "      <td>-0.488240</td>\n",
       "      <td>-0.596549</td>\n",
       "      <td>-0.558656</td>\n",
       "    </tr>\n",
       "  </tbody>\n",
       "</table>\n",
       "</div>"
      ],
      "text/plain": [
       "   Satisfaction_Level  Num_Projects  Time_Spent  Num_Promotions\n",
       "0           -1.303615     -1.162476   -1.049481       -0.558656\n",
       "1           -1.512945     -1.162476   -1.094603       -1.804887\n",
       "2            1.208335      0.860233    1.187080        1.310692\n",
       "3            0.161689      0.185996   -0.030385        0.064460\n",
       "4           -0.466299     -0.488240   -0.596549       -0.558656"
      ]
     },
     "execution_count": 5,
     "metadata": {},
     "output_type": "execute_result"
    }
   ],
   "source": [
    "# Lastly, once we have our transformed data within the StandardScaler instance, we must export \n",
    "# the transformed data into a Pandas DataFrame. Again, we must add and run the following code \n",
    "# to our notebooks:\n",
    "\n",
    "# Create a DataFrame with the scaled data\n",
    "transformed_scaled_data = pd.DataFrame(scaled_data, columns=hr_df.columns)\n",
    "transformed_scaled_data.head()"
   ]
  },
  {
   "cell_type": "code",
   "execution_count": null,
   "id": "012fd9fb",
   "metadata": {},
   "outputs": [],
   "source": [
    "# Now the data is ready to be passed along to our neural network model."
   ]
  }
 ],
 "metadata": {
  "kernelspec": {
   "display_name": "mlenv",
   "language": "python",
   "name": "mlenv"
  },
  "language_info": {
   "codemirror_mode": {
    "name": "ipython",
    "version": 3
   },
   "file_extension": ".py",
   "mimetype": "text/x-python",
   "name": "python",
   "nbconvert_exporter": "python",
   "pygments_lexer": "ipython3",
   "version": "3.7.13"
  }
 },
 "nbformat": 4,
 "nbformat_minor": 5
}
